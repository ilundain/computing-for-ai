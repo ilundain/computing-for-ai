{
  "nbformat": 4,
  "nbformat_minor": 0,
  "metadata": {
    "colab": {
      "provenance": [],
      "authorship_tag": "ABX9TyPYPuHvaTg+FyOLJO/4amlN",
      "include_colab_link": true
    },
    "kernelspec": {
      "name": "python3",
      "display_name": "Python 3"
    },
    "language_info": {
      "name": "python"
    }
  },
  "cells": [
    {
      "cell_type": "markdown",
      "metadata": {
        "id": "view-in-github",
        "colab_type": "text"
      },
      "source": [
        "<a href=\"https://colab.research.google.com/github/ilundain/computing-for-ai/blob/main/pAI_iNotes.ipynb\" target=\"_parent\"><img src=\"https://colab.research.google.com/assets/colab-badge.svg\" alt=\"Open In Colab\"/></a>"
      ]
    },
    {
      "cell_type": "code",
      "execution_count": null,
      "metadata": {
        "id": "Bq-RJPnSoRPG"
      },
      "outputs": [],
      "source": [
        "## AI Projects\n",
        "\n",
        "Investigate Fraud\n",
        "* Credit Card Fraud\n",
        "* Customer Churn\n",
        "* Anomaly Detection\n",
        "\n",
        "Enahance Learning\n",
        "* Memorization Aids\n",
        "* Scheduled Repetition\n",
        "* Targeted Quizes"
      ]
    },
    {
      "cell_type": "markdown",
      "source": [],
      "metadata": {
        "id": "iUiu-HmWodTa"
      }
    }
  ]
}